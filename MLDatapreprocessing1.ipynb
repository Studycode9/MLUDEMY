{
  "nbformat": 4,
  "nbformat_minor": 0,
  "metadata": {
    "colab": {
      "name": "DatapreprocessingML.ipynb",
      "provenance": [],
      "collapsed_sections": [],
      "toc_visible": true
    },
    "kernelspec": {
      "name": "python3",
      "display_name": "Python 3"
    }
  },
  "cells": [
    {
      "cell_type": "markdown",
      "metadata": {
        "id": "37puETfgRzzg",
        "colab_type": "text"
      },
      "source": [
        "# Data Preprocessing Tools"
      ]
    },
    {
      "cell_type": "markdown",
      "metadata": {
        "id": "EoRP98MpR-qj",
        "colab_type": "text"
      },
      "source": [
        "## Importing the libraries"
      ]
    },
    {
      "cell_type": "code",
      "metadata": {
        "id": "N-qiINBQSK2g",
        "colab_type": "code",
        "colab": {}
      },
      "source": [
        "import numpy as np\n",
        "import matplotlib.pyplot as plt\n",
        "import pandas as pd"
      ],
      "execution_count": 0,
      "outputs": []
    },
    {
      "cell_type": "markdown",
      "metadata": {
        "id": "RopL7tUZSQkT",
        "colab_type": "text"
      },
      "source": [
        "## Importing the dataset"
      ]
    },
    {
      "cell_type": "code",
      "metadata": {
        "id": "WwEPNDWySTKm",
        "colab_type": "code",
        "colab": {}
      },
      "source": [
        "dataset = pd.read_csv('Demo.csv')\n",
        "X = dataset.iloc[:, :-1].values\n",
        "y = dataset.iloc[:, -1].values"
      ],
      "execution_count": 0,
      "outputs": []
    },
    {
      "cell_type": "code",
      "metadata": {
        "id": "hCsz2yCebe1R",
        "colab_type": "code",
        "outputId": "63b666fb-e0a3-422b-879a-afc869dbf52b",
        "colab": {
          "base_uri": "https://localhost:8080/",
          "height": 336
        }
      },
      "source": [
        "print(X)"
      ],
      "execution_count": 0,
      "outputs": [
        {
          "output_type": "stream",
          "text": [
            "[['andhra' 40 5]\n",
            " ['maharastra' 52 4]\n",
            " ['delhi' 54 5]\n",
            " ['tamilnadu' 51 2]\n",
            " ['kerala' 41 8]\n",
            " ['tamilnadu' 41 6]\n",
            " ['kerala' 52 5]\n",
            " ['kerala' 53 7]\n",
            " ['maharastra' 51 9]\n",
            " ['delhi' 54 7]\n",
            " ['andhra' 51 5]\n",
            " ['andhra' 52 8]\n",
            " ['tamilnadu' 54 6]\n",
            " ['maharastra' 51 8]\n",
            " ['kerala' 23 8]\n",
            " ['delhi' 25 7]\n",
            " ['delhi' 56 5]\n",
            " ['delhi' 26 2]\n",
            " ['tamilnadu' 29 1]]\n"
          ],
          "name": "stdout"
        }
      ]
    },
    {
      "cell_type": "code",
      "metadata": {
        "id": "eYrOQ43XcJR3",
        "colab_type": "code",
        "outputId": "7134c32c-cea4-4844-ddb4-974a2c02f3a1",
        "colab": {
          "base_uri": "https://localhost:8080/",
          "height": 50
        }
      },
      "source": [
        "print(y)"
      ],
      "execution_count": 0,
      "outputs": [
        {
          "output_type": "stream",
          "text": [
            "['y' 'n' 'y' 'y' 'n' 'y' 'y' 'y' 'n' 'n' 'y' 'y' 'y' 'y' 'n' 'n' 'n' 'y'\n",
            " 'n']\n"
          ],
          "name": "stdout"
        }
      ]
    },
    {
      "cell_type": "markdown",
      "metadata": {
        "id": "nhfKXNxlSabC",
        "colab_type": "text"
      },
      "source": [
        "## Taking care of missing data"
      ]
    },
    {
      "cell_type": "code",
      "metadata": {
        "id": "c93k7ipkSexq",
        "colab_type": "code",
        "colab": {}
      },
      "source": [
        "from sklearn.impute import SimpleImputer\n",
        "imputer = SimpleImputer(missing_values=np.nan, strategy='mean')\n",
        "imputer.fit(X[:, 1:3])\n",
        "X[:, 1:3] = imputer.transform(X[:, 1:3])"
      ],
      "execution_count": 0,
      "outputs": []
    },
    {
      "cell_type": "code",
      "metadata": {
        "id": "3UgLdMS_bjq_",
        "colab_type": "code",
        "outputId": "4a22f450-15c2-44dd-e48e-e22dd0f6a47b",
        "colab": {
          "base_uri": "https://localhost:8080/",
          "height": 336
        }
      },
      "source": [
        "print(X)"
      ],
      "execution_count": 0,
      "outputs": [
        {
          "output_type": "stream",
          "text": [
            "[['andhra' 40.0 5.0]\n",
            " ['maharastra' 52.0 4.0]\n",
            " ['delhi' 54.0 5.0]\n",
            " ['tamilnadu' 51.0 2.0]\n",
            " ['kerala' 41.0 8.0]\n",
            " ['tamilnadu' 41.0 6.0]\n",
            " ['kerala' 52.0 5.0]\n",
            " ['kerala' 53.0 7.0]\n",
            " ['maharastra' 51.0 9.0]\n",
            " ['delhi' 54.0 7.0]\n",
            " ['andhra' 51.0 5.0]\n",
            " ['andhra' 52.0 8.0]\n",
            " ['tamilnadu' 54.0 6.0]\n",
            " ['maharastra' 51.0 8.0]\n",
            " ['kerala' 23.0 8.0]\n",
            " ['delhi' 25.0 7.0]\n",
            " ['delhi' 56.0 5.0]\n",
            " ['delhi' 26.0 2.0]\n",
            " ['tamilnadu' 29.0 1.0]]\n"
          ],
          "name": "stdout"
        }
      ]
    },
    {
      "cell_type": "markdown",
      "metadata": {
        "id": "CriG6VzVSjcK",
        "colab_type": "text"
      },
      "source": [
        "## Encoding categorical data"
      ]
    },
    {
      "cell_type": "markdown",
      "metadata": {
        "id": "PUp1Gu-2rkEK",
        "colab_type": "text"
      },
      "source": [
        ""
      ]
    },
    {
      "cell_type": "markdown",
      "metadata": {
        "id": "AhSpdQWeSsFh",
        "colab_type": "text"
      },
      "source": [
        "### Encoding the Independent Variable"
      ]
    },
    {
      "cell_type": "code",
      "metadata": {
        "id": "5hwuVddlSwVi",
        "colab_type": "code",
        "colab": {}
      },
      "source": [
        "from sklearn.compose import ColumnTransformer\n",
        "from sklearn.preprocessing import OneHotEncoder\n",
        "ct = ColumnTransformer(transformers=[('encoder', OneHotEncoder(), [0])], remainder='passthrough')\n",
        "X = np.array(ct.fit_transform(X))"
      ],
      "execution_count": 0,
      "outputs": []
    },
    {
      "cell_type": "markdown",
      "metadata": {
        "id": "DvPTQdyurjly",
        "colab_type": "text"
      },
      "source": [
        ""
      ]
    },
    {
      "cell_type": "code",
      "metadata": {
        "id": "f7QspewyeBfx",
        "colab_type": "code",
        "outputId": "b2333741-c596-42c9-ff11-de8ee76cc7d4",
        "colab": {
          "base_uri": "https://localhost:8080/",
          "height": 336
        }
      },
      "source": [
        "print(X)"
      ],
      "execution_count": 0,
      "outputs": [
        {
          "output_type": "stream",
          "text": [
            "[[1.0 0.0 0.0 0.0 0.0 40.0 5.0]\n",
            " [0.0 0.0 0.0 1.0 0.0 52.0 4.0]\n",
            " [0.0 1.0 0.0 0.0 0.0 54.0 5.0]\n",
            " [0.0 0.0 0.0 0.0 1.0 51.0 2.0]\n",
            " [0.0 0.0 1.0 0.0 0.0 41.0 8.0]\n",
            " [0.0 0.0 0.0 0.0 1.0 41.0 6.0]\n",
            " [0.0 0.0 1.0 0.0 0.0 52.0 5.0]\n",
            " [0.0 0.0 1.0 0.0 0.0 53.0 7.0]\n",
            " [0.0 0.0 0.0 1.0 0.0 51.0 9.0]\n",
            " [0.0 1.0 0.0 0.0 0.0 54.0 7.0]\n",
            " [1.0 0.0 0.0 0.0 0.0 51.0 5.0]\n",
            " [1.0 0.0 0.0 0.0 0.0 52.0 8.0]\n",
            " [0.0 0.0 0.0 0.0 1.0 54.0 6.0]\n",
            " [0.0 0.0 0.0 1.0 0.0 51.0 8.0]\n",
            " [0.0 0.0 1.0 0.0 0.0 23.0 8.0]\n",
            " [0.0 1.0 0.0 0.0 0.0 25.0 7.0]\n",
            " [0.0 1.0 0.0 0.0 0.0 56.0 5.0]\n",
            " [0.0 1.0 0.0 0.0 0.0 26.0 2.0]\n",
            " [0.0 0.0 0.0 0.0 1.0 29.0 1.0]]\n"
          ],
          "name": "stdout"
        }
      ]
    },
    {
      "cell_type": "markdown",
      "metadata": {
        "id": "DXh8oVSITIc6",
        "colab_type": "text"
      },
      "source": [
        "### Encoding the Dependent Variable"
      ]
    },
    {
      "cell_type": "code",
      "metadata": {
        "id": "XgHCShVyTOYY",
        "colab_type": "code",
        "colab": {}
      },
      "source": [
        "from sklearn.preprocessing import LabelEncoder\n",
        "le = LabelEncoder()\n",
        "y = le.fit_transform(y)"
      ],
      "execution_count": 0,
      "outputs": []
    },
    {
      "cell_type": "code",
      "metadata": {
        "id": "FyhY8-gPpFCa",
        "colab_type": "code",
        "outputId": "2897513c-9ed0-403b-c0a2-ffbcd537aa6f",
        "colab": {
          "base_uri": "https://localhost:8080/",
          "height": 34
        }
      },
      "source": [
        "print(y)"
      ],
      "execution_count": 0,
      "outputs": [
        {
          "output_type": "stream",
          "text": [
            "[1 0 1 1 0 1 1 1 0 0 1 1 1 1 0 0 0 1 0]\n"
          ],
          "name": "stdout"
        }
      ]
    },
    {
      "cell_type": "markdown",
      "metadata": {
        "id": "qb_vcgm3qZKW",
        "colab_type": "text"
      },
      "source": [
        "## Splitting the dataset into the Training set and Test set"
      ]
    },
    {
      "cell_type": "code",
      "metadata": {
        "id": "pXgA6CzlqbCl",
        "colab_type": "code",
        "colab": {}
      },
      "source": [
        "from sklearn.model_selection import train_test_split\n",
        "X_train, X_test, y_train, y_test = train_test_split(X, y, test_size = 0.1, random_state = 0)"
      ],
      "execution_count": 0,
      "outputs": []
    },
    {
      "cell_type": "code",
      "metadata": {
        "id": "GuwQhFdKrYTM",
        "colab_type": "code",
        "outputId": "ddf957f7-4e1f-4c23-d3c9-d9679d45e774",
        "colab": {
          "base_uri": "https://localhost:8080/",
          "height": 302
        }
      },
      "source": [
        "print(X_train)"
      ],
      "execution_count": 0,
      "outputs": [
        {
          "output_type": "stream",
          "text": [
            "[[0.0 0.0 0.0 1.0 0.0 51.0 9.0]\n",
            " [0.0 0.0 0.0 0.0 1.0 29.0 1.0]\n",
            " [0.0 0.0 1.0 0.0 0.0 23.0 8.0]\n",
            " [0.0 1.0 0.0 0.0 0.0 56.0 5.0]\n",
            " [0.0 0.0 1.0 0.0 0.0 52.0 5.0]\n",
            " [0.0 0.0 1.0 0.0 0.0 41.0 8.0]\n",
            " [0.0 1.0 0.0 0.0 0.0 54.0 5.0]\n",
            " [0.0 0.0 0.0 0.0 1.0 41.0 6.0]\n",
            " [0.0 0.0 0.0 1.0 0.0 51.0 8.0]\n",
            " [0.0 1.0 0.0 0.0 0.0 54.0 7.0]\n",
            " [0.0 0.0 1.0 0.0 0.0 53.0 7.0]\n",
            " [0.0 1.0 0.0 0.0 0.0 26.0 2.0]\n",
            " [1.0 0.0 0.0 0.0 0.0 52.0 8.0]\n",
            " [0.0 0.0 0.0 0.0 1.0 51.0 2.0]\n",
            " [1.0 0.0 0.0 0.0 0.0 40.0 5.0]\n",
            " [0.0 1.0 0.0 0.0 0.0 25.0 7.0]\n",
            " [0.0 0.0 0.0 0.0 1.0 54.0 6.0]]\n"
          ],
          "name": "stdout"
        }
      ]
    },
    {
      "cell_type": "code",
      "metadata": {
        "id": "TUrX_Tvcrbi4",
        "colab_type": "code",
        "outputId": "708a8ee3-c773-4b6b-c070-8cae02ef0e6d",
        "colab": {
          "base_uri": "https://localhost:8080/",
          "height": 50
        }
      },
      "source": [
        "print(X_test)"
      ],
      "execution_count": 0,
      "outputs": [
        {
          "output_type": "stream",
          "text": [
            "[[1.0 0.0 0.0 0.0 0.0 51.0 5.0]\n",
            " [0.0 0.0 0.0 1.0 0.0 52.0 4.0]]\n"
          ],
          "name": "stdout"
        }
      ]
    },
    {
      "cell_type": "code",
      "metadata": {
        "id": "pSMHiIsWreQY",
        "colab_type": "code",
        "outputId": "4e43366a-8ecd-4c2a-cc9e-81703d244ed5",
        "colab": {
          "base_uri": "https://localhost:8080/",
          "height": 34
        }
      },
      "source": [
        "print(y_train)"
      ],
      "execution_count": 0,
      "outputs": [
        {
          "output_type": "stream",
          "text": [
            "[0 0 0 0 1 0 1 1 1 0 1 1 1 1 1 0 1]\n"
          ],
          "name": "stdout"
        }
      ]
    },
    {
      "cell_type": "code",
      "metadata": {
        "id": "I_tW7H56rgtW",
        "colab_type": "code",
        "outputId": "44e0dcc8-73ec-4534-c100-c879499a8ac6",
        "colab": {
          "base_uri": "https://localhost:8080/",
          "height": 34
        }
      },
      "source": [
        "print(y_test)"
      ],
      "execution_count": 0,
      "outputs": [
        {
          "output_type": "stream",
          "text": [
            "[1 0]\n"
          ],
          "name": "stdout"
        }
      ]
    },
    {
      "cell_type": "markdown",
      "metadata": {
        "id": "TpGqbS4TqkIR",
        "colab_type": "text"
      },
      "source": [
        "## Feature Scaling"
      ]
    },
    {
      "cell_type": "code",
      "metadata": {
        "id": "AxjSUXFQqo-3",
        "colab_type": "code",
        "colab": {}
      },
      "source": [
        "from sklearn.preprocessing import StandardScaler\n",
        "sc = StandardScaler()\n",
        "X = sc.fit_transform(X)"
      ],
      "execution_count": 0,
      "outputs": []
    },
    {
      "cell_type": "code",
      "metadata": {
        "id": "X900Y-o7rIRn",
        "colab_type": "code",
        "outputId": "f2bc8f16-7282-4e44-d21b-d8949087b75a",
        "colab": {
          "base_uri": "https://localhost:8080/",
          "height": 655
        }
      },
      "source": [
        "print(X)"
      ],
      "execution_count": 0,
      "outputs": [
        {
          "output_type": "stream",
          "text": [
            "[[ 2.30940108 -0.5976143  -0.51639778 -0.4330127  -0.51639778 -0.46154913\n",
            "  -0.31075944]\n",
            " [-0.4330127  -0.5976143  -0.51639778  2.30940108 -0.51639778  0.63463005\n",
            "  -0.76494631]\n",
            " [-0.4330127   1.67332005 -0.51639778 -0.4330127  -0.51639778  0.81732658\n",
            "  -0.31075944]\n",
            " [-0.4330127  -0.5976143  -0.51639778 -0.4330127   1.93649167  0.54328179\n",
            "  -1.67332005]\n",
            " [-0.4330127  -0.5976143   1.93649167 -0.4330127  -0.51639778 -0.37020086\n",
            "   1.05180118]\n",
            " [-0.4330127  -0.5976143  -0.51639778 -0.4330127   1.93649167 -0.37020086\n",
            "   0.14342743]\n",
            " [-0.4330127  -0.5976143   1.93649167 -0.4330127  -0.51639778  0.63463005\n",
            "  -0.31075944]\n",
            " [-0.4330127  -0.5976143   1.93649167 -0.4330127  -0.51639778  0.72597832\n",
            "   0.5976143 ]\n",
            " [-0.4330127  -0.5976143  -0.51639778  2.30940108 -0.51639778  0.54328179\n",
            "   1.50598805]\n",
            " [-0.4330127   1.67332005 -0.51639778 -0.4330127  -0.51639778  0.81732658\n",
            "   0.5976143 ]\n",
            " [ 2.30940108 -0.5976143  -0.51639778 -0.4330127  -0.51639778  0.54328179\n",
            "  -0.31075944]\n",
            " [ 2.30940108 -0.5976143  -0.51639778 -0.4330127  -0.51639778  0.63463005\n",
            "   1.05180118]\n",
            " [-0.4330127  -0.5976143  -0.51639778 -0.4330127   1.93649167  0.81732658\n",
            "   0.14342743]\n",
            " [-0.4330127  -0.5976143  -0.51639778  2.30940108 -0.51639778  0.54328179\n",
            "   1.05180118]\n",
            " [-0.4330127  -0.5976143   1.93649167 -0.4330127  -0.51639778 -2.01446964\n",
            "   1.05180118]\n",
            " [-0.4330127   1.67332005 -0.51639778 -0.4330127  -0.51639778 -1.83177311\n",
            "   0.5976143 ]\n",
            " [-0.4330127   1.67332005 -0.51639778 -0.4330127  -0.51639778  1.00002311\n",
            "  -0.31075944]\n",
            " [-0.4330127   1.67332005 -0.51639778 -0.4330127  -0.51639778 -1.74042484\n",
            "  -1.67332005]\n",
            " [-0.4330127  -0.5976143  -0.51639778 -0.4330127   1.93649167 -1.46638005\n",
            "  -2.12750692]]\n"
          ],
          "name": "stdout"
        }
      ]
    }
  ]
}
